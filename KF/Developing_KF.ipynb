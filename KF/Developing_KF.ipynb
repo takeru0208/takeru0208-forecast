{
 "cells": [
  {
   "cell_type": "code",
   "execution_count": 52,
   "metadata": {},
   "outputs": [],
   "source": [
    "%matplotlib inline\n",
    "import numpy as np\n",
    "import matplotlib.pyplot as plt\n",
    "import numpy.random as rand\n",
    "from numba import jit\n",
    "import time"
   ]
  },
  {
   "cell_type": "code",
   "execution_count": 67,
   "metadata": {},
   "outputs": [],
   "source": [
    "F = 8.0\n",
    "K = 40\n",
    "k = np.empty(K)\n",
    "k1 = np.empty(K)\n",
    "k2 = np.empty(K)\n",
    "k3 = np.empty(K)\n",
    "k4 = np.empty(K)\n",
    "Xtmp1 = np.empty(K)\n",
    "Xtmp2 = np.empty(K)\n",
    "Xtmp3 = np.empty(K)"
   ]
  },
  {
   "cell_type": "code",
   "execution_count": 68,
   "metadata": {},
   "outputs": [],
   "source": [
    "@jit\n",
    "def df(X):\n",
    "    nextX = np.empty(K)\n",
    "    for j in range(K):\n",
    "        if j == 0:\n",
    "            nextX[j] = (X[j+1] - X[38])*X[39] - X[j] + F\n",
    "        elif j == 1:\n",
    "            nextX[j] = (X[j+1] - X[39])*X[j-1] - X[j] + F\n",
    "        elif j == 39:\n",
    "            nextX[j] = (X[0] - X[j-2])*X[j-1] - X[j] + F\n",
    "        else:\n",
    "            nextX[j] = (X[j+1] - X[j-2])*X[j-1] - X[j] + F\n",
    "    return nextX\n",
    "\n"
   ]
  },
  {
   "cell_type": "code",
   "execution_count": 69,
   "metadata": {},
   "outputs": [],
   "source": [
    "#dfについて4次ルンゲクッタ法をする関数\n",
    "#tpoints = np.arange(tstart, tend, dt)\n",
    "#Xは初期化した配列，この配列をRungeKutta4thに入れる．\n",
    "\n",
    "def Runge4(tpoints, X, Xr4):\n",
    "    k = np.empty(K)\n",
    "    k1 = np.empty(K)\n",
    "    k2 = np.empty(K)\n",
    "    k3 = np.empty(K)\n",
    "    k4 = np.empty(K)\n",
    "    Xtmp1 = np.empty(K)\n",
    "    Xtmp2 = np.empty(K)\n",
    "    Xtmp3 = np.empty(K)\n",
    "    n = 0\n",
    "    for t in tpoints:\n",
    "        k1 = dt*df(X)\n",
    "        Xtmp1 = X + k1*0.5\n",
    "        k2 = dt*df(Xtmp1)\n",
    "        Xtmp2 = X + k2*0.5\n",
    "        k3 = dt*df(Xtmp2)\n",
    "        Xtmp3 = X + k3\n",
    "        k4 = dt*df(Xtmp3)\n",
    "        k = (k1 + 2.0*k2 + 2.0*k3 + k4)/6.0\n",
    "        Xr4[n] = X\n",
    "        X = X + k\n",
    "        n = n+1"
   ]
  },
  {
   "cell_type": "code",
   "execution_count": 70,
   "metadata": {},
   "outputs": [],
   "source": [
    "#dfについて4次ルンゲクッタ法をする関数\n",
    "#１ステップだけ回して結果を得る\n",
    "#Xは初期化した配列，この配列をRungeKutta4thに入れる．\n",
    "\n",
    "def Runge4one(X):\n",
    "    k = np.empty(K)\n",
    "    k1 = np.empty(K)\n",
    "    k2 = np.empty(K)\n",
    "    k3 = np.empty(K)\n",
    "    k4 = np.empty(K)\n",
    "    Xtmp1 = np.empty(K)\n",
    "    Xtmp2 = np.empty(K)\n",
    "    Xtmp3 = np.empty(K)\n",
    "    \n",
    "    k1 = dt*df(X)\n",
    "    Xtmp1 = X + k1*0.5\n",
    "    k2 = dt*df(Xtmp1)\n",
    "    Xtmp2 = X + k2*0.5\n",
    "    k3 = dt*df(Xtmp2)\n",
    "    Xtmp3 = X + k3\n",
    "    k4 = dt*df(Xtmp3)\n",
    "    k = (k1 + 2.0*k2 + 2.0*k3 + k4)/6.0\n",
    "    return X + k"
   ]
  },
  {
   "cell_type": "code",
   "execution_count": 71,
   "metadata": {},
   "outputs": [],
   "source": [
    "X0 = np.full(K, F)\n",
    "X0[19] = F*1.001\n",
    "\n",
    "#1年間（1日4ステップで1年間で4*365ステップ）\n",
    "#dt = 0.05のためtend = 4*365*0.05となる\n",
    "#3年間分最初に回して，過渡効果を無視できるようにする．\n",
    "\n",
    "tstart = 0.0\n",
    "tend = 4*365*1*0.05\n",
    "dt = 0.05\n",
    "tpoints = np.arange(tstart, tend, dt)\n",
    "\n",
    "\n",
    "for t in tpoints:\n",
    "    k1 = dt*df(X0)\n",
    "    Xtmp1 = X0 + k1*0.5\n",
    "    k2 = dt*df(Xtmp1)\n",
    "    Xtmp2 = X0 + k2*0.5\n",
    "    k3 = dt*df(Xtmp2)\n",
    "    Xtmp3 = X0 + k3\n",
    "    k4 = dt*df(Xtmp3)\n",
    "    k = (k1 + 2.0*k2 + 2.0*k3 + k4)/6.0\n",
    "    X0 = X0 + k"
   ]
  },
  {
   "cell_type": "code",
   "execution_count": 72,
   "metadata": {},
   "outputs": [
    {
     "name": "stdout",
     "output_type": "stream",
     "text": [
      "elapsed_time:0.034941911697387695[sec]\n"
     ]
    }
   ],
   "source": [
    "#残り１年分を真値として保存する．\n",
    "xt = np.zeros((4*365, K), dtype=np.float)\n",
    "\n",
    "start = time.time()\n",
    "Runge4(tpoints, X0, xt)\n",
    "    \n",
    "elapsed_time = time.time() - start\n",
    "print (\"elapsed_time:{0}\".format(elapsed_time) + \"[sec]\")\n",
    "\n"
   ]
  },
  {
   "cell_type": "code",
   "execution_count": 73,
   "metadata": {},
   "outputs": [
    {
     "data": {
      "image/png": "[encoded data removed]",
      "text/plain": [
       "<Figure size 576x288 with 1 Axes>"
      ]
     },
     "metadata": {
      "needs_background": "light"
     },
     "output_type": "display_data"
    }
   ],
   "source": [
    "#標準偏差１の正規分布を生成\n",
    "#pythonではMetsenne Twister法はramdomで標準に用いられているようだが，一応確認．\n",
    "#100万個の値でグラフを作る．\n",
    "y = rand.normal(0, 1, 1000000)\n",
    "plt.figure(figsize=(8, 4))\n",
    "plt.xlabel(\"value\")\n",
    "plt.ylabel(\"number\")\n",
    "plt.grid(True)\n",
    "plt.hist(y, bins=100)\n",
    "plt.xlim(-10, 10)\n",
    "plt.show()"
   ]
  },
  {
   "cell_type": "code",
   "execution_count": 76,
   "metadata": {},
   "outputs": [],
   "source": [
    "#観測データはそれぞれの時刻の真の値に標準偏差１の正規分布の値を足したものとする．\n",
    "\n",
    "#真値xtは上で定義\n",
    "yo = np.zeros((4*365, K))\n",
    "yo = xt + rand.normal(0, 1, (4*365, K))\n",
    "\n",
    "xf = np.zeros((4*365, K))\n",
    "xa = np.zeros((4*365, K))\n",
    "dxa = np.zeros((4*365, K))\n",
    "dxf = np.zeros((4*365, K))\n",
    "\n",
    "xa[0] = yo[0]\n",
    "xf[0] = yo[0]\n",
    "delta = 0.00001\n",
    "R = np.eye(K)\n",
    "e = np.eye(K)*delta\n",
    "\n",
    "Pf = np.zeros((4*365, K, K))\n",
    "Pa = np.zeros((4*365, K, K))\n",
    "Pa[0] = 5*np.eye(K)\n",
    "\n",
    "#重み\n",
    "W = np.zeros((4*365, K, K))\n",
    "\n",
    "#とりあえずM_0を作ってみる\n",
    "M = np.zeros((K, K))\n",
    "for n in range(K):\n",
    "    Me = (Runge4one(xa[0] + e[n]) - Runge4one(xa[0]))/delta\n",
    "    M[n] = Me\n",
    "\n",
    "M = M.T\n",
    "\n",
    "Pf[1] = np.dot(np.dot(M,  Pa[0]), M.T)\n",
    "W[1] = np.dot(Pf[1], np.linalg.inv(Pf[1] + R))"
   ]
  },
  {
   "cell_type": "code",
   "execution_count": null,
   "metadata": {},
   "outputs": [],
   "source": []
  },
  {
   "cell_type": "code",
   "execution_count": null,
   "metadata": {},
   "outputs": [],
   "source": []
  }
 ],
 "metadata": {
  "kernelspec": {
   "display_name": "Python 3",
   "language": "python",
   "name": "python3"
  },
  "language_info": {
   "codemirror_mode": {
    "name": "ipython",
    "version": 3
   },
   "file_extension": ".py",
   "mimetype": "text/x-python",
   "name": "python",
   "nbconvert_exporter": "python",
   "pygments_lexer": "ipython3",
   "version": "3.7.4"
  }
 },
 "nbformat": 4,
 "nbformat_minor": 2
}
