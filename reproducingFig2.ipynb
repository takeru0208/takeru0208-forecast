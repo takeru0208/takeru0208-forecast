{
 "cells": [
  {
   "cell_type": "code",
   "execution_count": 9,
   "metadata": {},
   "outputs": [],
   "source": [
    "import numpy as np\n",
    "import numpy.random as rand\n",
    "import matplotlib.pyplot as plt\n",
    "\n",
    "from scipy.stats import norm\n",
    "\n",
    "\n"
   ]
  },
  {
   "cell_type": "code",
   "execution_count": 19,
   "metadata": {
    "scrolled": false
   },
   "outputs": [
    {
     "data": {
      "image/png": "[encoded data removed]",
      "text/plain": [
       "<Figure size 576x288 with 1 Axes>"
      ]
     },
     "metadata": {
      "needs_background": "light"
     },
     "output_type": "display_data"
    },
    {
     "data": {
      "image/png": "[encoded data removed]",
      "text/plain": [
       "<Figure size 576x288 with 1 Axes>"
      ]
     },
     "metadata": {
      "needs_background": "light"
     },
     "output_type": "display_data"
    },
    {
     "name": "stdout",
     "output_type": "stream",
     "text": [
      "elapsed_time:8.453990936279297[sec]\n"
     ]
    }
   ],
   "source": [
    "%matplotlib inline\n",
    "import numpy as np\n",
    "import matplotlib.pyplot as plt\n",
    "import numpy.random as rand\n",
    "from numba import jit\n",
    "import time\n",
    "#全部にちょっとだけ誤差を加えて，それがどれくらい増えるかの確認\n",
    "\n",
    "start = time.time()\n",
    "\n",
    "N = 300\n",
    "M = 500\n",
    "F = 8.0\n",
    "K = 40\n",
    "k = np.empty(K)\n",
    "k1 = np.empty(K)\n",
    "k2 = np.empty(K)\n",
    "k3 = np.empty(K)\n",
    "k4 = np.empty(K)\n",
    "Xtmp1 = np.empty(K)\n",
    "Xtmp2 = np.empty(K)\n",
    "Xtmp3 = np.empty(K)\n",
    "\n",
    "kalt = np.empty(K)\n",
    "k1alt = np.empty(K)\n",
    "k2alt = np.empty(K)\n",
    "k3alt = np.empty(K)\n",
    "k4alt = np.empty(K)\n",
    "Xtmp1alt = np.empty(K)\n",
    "Xtmp2alt = np.empty(K)\n",
    "Xtmp3alt = np.empty(K)\n",
    "Xalt = np.empty(K)\n",
    "X = np.empty(K)\n",
    "\n",
    "e = np.empty((N, K))\n",
    "\n",
    "@jit\n",
    "def df(X):\n",
    "    nextX = np.empty(K)\n",
    "    for j in range(K):\n",
    "        if j == 0:\n",
    "            nextX[j] = (X[j+1] - X[38])*X[39] - X[j] + F\n",
    "        elif j == 1:\n",
    "            nextX[j] = (X[j+1] - X[39])*X[j-1] - X[j] + F\n",
    "        elif j == 39:\n",
    "            nextX[j] = (X[0] - X[j-2])*X[j-1] - X[j] + F\n",
    "        else:\n",
    "            nextX[j] = (X[j+1] - X[j-2])*X[j-1] - X[j] + F\n",
    "    return nextX\n",
    "\n",
    "\n",
    "X0 = np.full(K, F)\n",
    "X0[19] = F*1.001\n",
    "\n",
    "\n",
    "#3年間（1日4ステップで3年間で4380ステップ）\n",
    "#dt = 0.05のためtend = 4380*0.05=219となる\n",
    "#3年間分最初に回して，過渡効果を無視できるようにする．\n",
    "\n",
    "\n",
    "tstart = 0.0\n",
    "tend = 4*365*3*0.05\n",
    "dt = 0.05\n",
    "tpoints = np.arange(tstart, tend, dt)\n",
    "\n",
    "\n",
    "for t in tpoints:\n",
    "    k1 = dt*df(X0)\n",
    "    Xtmp1 = X0 + k1*0.5\n",
    "    k2 = dt*df(Xtmp1)\n",
    "    Xtmp2 = X0 + k2*0.5\n",
    "    k3 = dt*df(Xtmp2)\n",
    "    Xtmp3 = X0 + k3\n",
    "    k4 = dt*df(Xtmp3)\n",
    "    k = (k1 + 2.0*k2 + 2.0*k3 + k4)/6.0\n",
    "    X0 = X0 + k\n",
    "\n",
    "#3年間回した後Nステップ分とる\n",
    "#M回まわして平均を取る．\n",
    "tstart = 0.0\n",
    "tend = 0.05*N\n",
    "dt = 0.05\n",
    "rmse = np.zeros(N)\n",
    "sum = np.zeros(N)\n",
    "tpoints = np.arange(tstart, tend, dt)\n",
    "ppoints = np.arange(0, M, 1)\n",
    "\n",
    "#Mステップ回す\n",
    "for p in ppoints:\n",
    "    n = 0\n",
    "    Xalt = X0.copy()\n",
    "    X = X0.copy()\n",
    "    Xalt = Xalt + rand.normal(0, 0.001, K)\n",
    "    \n",
    "    #Nステップ回す\n",
    "    for t in tpoints:       \n",
    "        e[n] = np.square(Xalt - X)\n",
    "        \n",
    "        k1 = dt*df(X)\n",
    "        k1alt = dt*df(Xalt)\n",
    "        Xtmp1 = X + k1*0.5\n",
    "        Xtmp1alt = Xalt + k1alt*0.5\n",
    "        \n",
    "        k2 = dt*df(Xtmp1)\n",
    "        k2alt = dt*df(Xtmp1alt)\n",
    "        Xtmp2 = X + k2*0.5\n",
    "        Xtmp2alt = Xalt + k2alt*0.5\n",
    "        \n",
    "        k3 = dt*df(Xtmp2)\n",
    "        k3alt = dt*df(Xtmp2alt)\n",
    "        Xtmp3 = X + k3\n",
    "        Xtmp3alt = Xalt + k3alt\n",
    "        \n",
    "        k4 = dt*df(Xtmp3)\n",
    "        k4alt = dt*df(Xtmp3alt)\n",
    "\n",
    "        \n",
    "        k = (k1 + 2.0*k2 + 2.0*k3 + k4)/6.0\n",
    "        kalt = (k1alt + 2.0*k2alt + 2.0*k3alt + k4alt)/6.0\n",
    "        \n",
    "        X = X + k\n",
    "        Xalt = Xalt + kalt\n",
    "        sum_e = np.sum(e[n])/K\n",
    "        rmse[n] = rmse[n] + np.sqrt(sum_e)\n",
    "        n = n +1\n",
    "\n",
    "rmse = rmse/M\n",
    "#普通のプロット\n",
    "x = np.arange(0, N, 1)\n",
    "plt.figure(figsize=(8, 4))\n",
    "plt.xlabel(\"steps\")\n",
    "plt.ylabel(\"error\")\n",
    "plt.grid(True)\n",
    "plt.plot(x, rmse)\n",
    "plt.show()\n",
    "#対数のプロット\n",
    "plt.figure(figsize=(8, 4))\n",
    "plt.xlabel(\"steps\")\n",
    "plt.ylabel(\"error\")\n",
    "plt.grid(True)\n",
    "plt.plot(x, rmse)\n",
    "plt.yscale('log')\n",
    "plt.show()\n",
    "elapsed_time = time.time() - start\n",
    "print (\"elapsed_time:{0}\".format(elapsed_time) + \"[sec]\")"
   ]
  },
  {
   "cell_type": "code",
   "execution_count": null,
   "metadata": {},
   "outputs": [],
   "source": []
  },
  {
   "cell_type": "code",
   "execution_count": null,
   "metadata": {},
   "outputs": [],
   "source": []
  },
  {
   "cell_type": "code",
   "execution_count": null,
   "metadata": {
    "scrolled": false
   },
   "outputs": [],
   "source": []
  },
  {
   "cell_type": "code",
   "execution_count": null,
   "metadata": {},
   "outputs": [],
   "source": []
  }
 ],
 "metadata": {
  "kernelspec": {
   "display_name": "Python 3",
   "language": "python",
   "name": "python3"
  },
  "language_info": {
   "codemirror_mode": {
    "name": "ipython",
    "version": 3
   },
   "file_extension": ".py",
   "mimetype": "text/x-python",
   "name": "python",
   "nbconvert_exporter": "python",
   "pygments_lexer": "ipython3",
   "version": "3.7.4"
  }
 },
 "nbformat": 4,
 "nbformat_minor": 2
}
